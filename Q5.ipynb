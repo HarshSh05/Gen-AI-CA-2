{
  "cells": [
    {
      "cell_type": "markdown",
      "id": "1cc6ff2b",
      "metadata": {
        "id": "1cc6ff2b"
      },
      "source": [
        "# COVID-19 Symptom Data Model with Random Values"
      ]
    },
    {
      "cell_type": "markdown",
      "id": "d673ec4c",
      "metadata": {
        "id": "d673ec4c"
      },
      "source": [
        "\n",
        "This notebook generates 100 random data points for COVID-19 symptoms including:\n",
        "- Fever (in Fahrenheit)\n",
        "- Cold (binary: 0 for no cold, 1 for cold)\n",
        "- Shivering (binary: 0 for no shivering, 1 for shivering)\n",
        "- Weight Loss (in kg)\n",
        "\n",
        "The data is then sorted based on the selected parameter.\n",
        "        "
      ]
    },
    {
      "cell_type": "code",
      "execution_count": 3,
      "id": "92965e2b",
      "metadata": {
        "colab": {
          "base_uri": "https://localhost:8080/"
        },
        "id": "92965e2b",
        "outputId": "652fb39d-2144-4785-ac0b-57152027be27"
      },
      "outputs": [
        {
          "output_type": "stream",
          "name": "stdout",
          "text": [
            "         fever  cold  shivering  weight_loss\n",
            "72   98.038655     1          1     8.670723\n",
            "10   98.144091     0          1     5.487338\n",
            "98   98.177934     0          1     6.228905\n",
            "42   98.240720     1          0     9.148644\n",
            "58   98.316591     1          0     5.700612\n",
            "..         ...   ...        ...          ...\n",
            "1   104.655000     1          0     0.841400\n",
            "34  104.759424     1          1     1.952430\n",
            "50  104.787092     1          1     2.944489\n",
            "11  104.789369     0          0     6.918952\n",
            "69  104.908209     0          0     2.935918\n",
            "\n",
            "[100 rows x 4 columns]\n"
          ]
        }
      ],
      "source": [
        "\n",
        "import pandas as pd\n",
        "import numpy as np\n",
        "\n",
        "# Define the number of samples\n",
        "n_samples = 100\n",
        "\n",
        "# Create random data for symptoms\n",
        "np.random.seed(42)  # for reproducibility\n",
        "data = {\n",
        "    'fever': np.random.uniform(98, 105, n_samples),  # random temperature values in Fahrenheit\n",
        "    'cold': np.random.choice([0, 1], n_samples),     # 0 for no cold, 1 for cold\n",
        "    'shivering': np.random.choice([0, 1], n_samples), # 0 for no shivering, 1 for shivering\n",
        "    'weight_loss': np.random.uniform(0, 10, n_samples) # random weight loss in kg\n",
        "}\n",
        "\n",
        "# Create a DataFrame\n",
        "df = pd.DataFrame(data)\n",
        "\n",
        "# Define a function to sort data based on an input parameter\n",
        "def sort_by_parameter(df, parameter):\n",
        "    return df.sort_values(by=parameter)\n",
        "\n",
        "# Sort by 'fever' as an example\n",
        "sorted_df = sort_by_parameter(df, 'fever')\n",
        "\n",
        "# Display the sorted data\n",
        "print(sorted_df)\n"
      ]
    }
  ],
  "metadata": {
    "colab": {
      "provenance": []
    },
    "language_info": {
      "name": "python"
    },
    "kernelspec": {
      "name": "python3",
      "display_name": "Python 3"
    }
  },
  "nbformat": 4,
  "nbformat_minor": 5
}