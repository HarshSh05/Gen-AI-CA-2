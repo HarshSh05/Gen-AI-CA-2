{
  "cells": [
    {
      "cell_type": "markdown",
      "id": "5d6e5dbb",
      "metadata": {
        "id": "5d6e5dbb"
      },
      "source": [
        "# Bank Account Simulation with Random Transactions"
      ]
    },
    {
      "cell_type": "markdown",
      "id": "ef4d916e",
      "metadata": {
        "id": "ef4d916e"
      },
      "source": [
        "This notebook simulates 100 savings accounts with random initial balances and random transactions (deposits and withdrawals) over a period of 12 months."
      ]
    },
    {
      "cell_type": "code",
      "execution_count": 4,
      "id": "9046984e",
      "metadata": {
        "colab": {
          "base_uri": "https://localhost:8080/"
        },
        "id": "9046984e",
        "outputId": "5e73db0f-21f5-4420-8b0e-9443fc5a4233"
      },
      "outputs": [
        {
          "output_type": "stream",
          "name": "stdout",
          "text": [
            "   Account ID  Final Balance\n",
            "0      ACC069     163.567529\n",
            "1      ACC098     323.428555\n",
            "2      ACC013     337.224475\n",
            "3      ACC067     429.849426\n",
            "4      ACC053     560.742301\n",
            "..        ...            ...\n",
            "95     ACC095   11647.124151\n",
            "96     ACC043   11708.444220\n",
            "97     ACC070   11998.226329\n",
            "98     ACC059   12308.260605\n",
            "99     ACC060   12426.587660\n",
            "\n",
            "[100 rows x 2 columns]\n"
          ]
        }
      ],
      "source": [
        "import random\n",
        "import pandas as pd\n",
        "\n",
        "# Seed for reproducibility\n",
        "random.seed(42)\n",
        "\n",
        "class SavingsAccount:\n",
        "    def __init__(self, account_id, initial_balance):\n",
        "        self.account_id = account_id\n",
        "        self.balance = initial_balance\n",
        "        self.transactions = []\n",
        "\n",
        "    def deposit(self, amount):\n",
        "        self.balance += amount\n",
        "        self.transactions.append(('Deposit', amount, self.balance))\n",
        "\n",
        "    def withdraw(self, amount):\n",
        "        if amount <= self.balance:\n",
        "            self.balance -= amount\n",
        "            self.transactions.append(('Withdraw', amount, self.balance))\n",
        "        else:\n",
        "            self.transactions.append(('Failed Withdraw', amount, self.balance))\n",
        "\n",
        "    def get_balance(self):\n",
        "        return self.balance\n",
        "\n",
        "    def get_transaction_history(self):\n",
        "        return self.transactions\n",
        "\n",
        "# Function to generate random accounts\n",
        "def generate_accounts(num_accounts, months, max_transactions, seed_amount):\n",
        "    accounts = []\n",
        "    for i in range(num_accounts):\n",
        "        initial_balance = random.uniform(100, seed_amount)  # Random initial balance\n",
        "        account = SavingsAccount(f\"ACC{i+1:03d}\", initial_balance)\n",
        "\n",
        "        for _ in range(months):\n",
        "            num_transactions = random.randint(1, max_transactions)\n",
        "            for _ in range(num_transactions):\n",
        "                transaction_type = random.choice(['deposit', 'withdraw'])\n",
        "                amount = random.uniform(10, 500)\n",
        "                if transaction_type == 'deposit':\n",
        "                    account.deposit(amount)\n",
        "                else:\n",
        "                    account.withdraw(amount)\n",
        "\n",
        "        accounts.append(account)\n",
        "    return accounts\n",
        "\n",
        "# Generate 100 accounts with random balances and transactions over 12 months\n",
        "num_accounts = 100\n",
        "months = 12\n",
        "max_transactions = 10\n",
        "seed_amount = 10000\n",
        "accounts = generate_accounts(num_accounts, months, max_transactions, seed_amount)\n",
        "\n",
        "# Extract the final balances and sort by balance\n",
        "account_data = [(account.account_id, account.get_balance()) for account in accounts]\n",
        "sorted_accounts = sorted(account_data, key=lambda x: x[1])\n",
        "\n",
        "# Convert to DataFrame for better visualization\n",
        "df_accounts = pd.DataFrame(sorted_accounts, columns=[\"Account ID\", \"Final Balance\"])\n",
        "print(df_accounts)"
      ]
    }
  ],
  "metadata": {
    "colab": {
      "provenance": []
    },
    "language_info": {
      "name": "python"
    },
    "kernelspec": {
      "name": "python3",
      "display_name": "Python 3"
    }
  },
  "nbformat": 4,
  "nbformat_minor": 5
}